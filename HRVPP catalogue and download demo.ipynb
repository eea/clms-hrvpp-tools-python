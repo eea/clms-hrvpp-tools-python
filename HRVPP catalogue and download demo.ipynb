{
 "cells": [
  {
   "cell_type": "markdown",
   "metadata": {},
   "source": [
    "## Query HRVPP catalogue via OpenSearch and directly download data\n",
    "\n",
    "This notebook shows how to query the HRVPP catalogue service. The HRVPP catalogue service is an alternative for the WekEO HDA interface and implements a standardized [OpenSearch interface](http://docs.opengeospatial.org/is/17-047r1/17-047r1.html).\n",
    "The catalogue service also comes with a [Python client](https://github.com/VITObelgium/terracatalogueclient), which allows for easy integration in Python notebooks and Python-based processing chains.\n",
    "\n",
    "We'll also show how to download data over HTTP using WekEO credentials."
   ]
  },
  {
   "cell_type": "markdown",
   "metadata": {},
   "source": [
    "### Table of contents\n",
    "* [Install & import packages](#install-import)\n",
    "* [Discover collections](#discover-collections)\n",
    "* [Search products](#search-products)\n",
    "* [Download data](#download-data)"
   ]
  },
  {
   "cell_type": "markdown",
   "metadata": {},
   "source": [
    "#### Install & import packages <a class=\"anchor\" id=\"install-import\"></a>"
   ]
  },
  {
   "cell_type": "markdown",
   "metadata": {},
   "source": [
    "Let's start with installing the Python catalogue client"
   ]
  },
  {
   "cell_type": "code",
   "execution_count": 3,
   "metadata": {},
   "outputs": [],
   "source": [
    "!pip3 install --user --quiet --index-url=https://artifactory.vgt.vito.be/api/pypi/python-packages/simple terracatalogueclient==0.1.14"
   ]
  },
  {
   "cell_type": "markdown",
   "metadata": {},
   "source": [
    "Next, we import some required packages and initialize the catalogue client. Make sure to select the HRVPP catalogue environment:"
   ]
  },
  {
   "cell_type": "code",
   "execution_count": 4,
   "metadata": {},
   "outputs": [],
   "source": [
    "from terracatalogueclient import Catalogue\n",
    "from terracatalogueclient.config import CatalogueConfig\n",
    "from terracatalogueclient.config import CatalogueEnvironment\n",
    "\n",
    "# make sure to retrieve config for the HRVPP catalogue\n",
    "config = CatalogueConfig.from_environment(CatalogueEnvironment.HRVPP)\n",
    "catalogue = Catalogue(config)"
   ]
  },
  {
   "cell_type": "markdown",
   "metadata": {},
   "source": [
    "#### Discover collections <a class=\"anchor\" id=\"discover-collections\"></a>"
   ]
  },
  {
   "cell_type": "markdown",
   "metadata": {},
   "source": [
    "We'll first query the available HRVPP collections. You'll see that we have one VI (Vegentation Index) collection in UTM projection and ST (Seasonal Trajectories) and VPP (Vegetation Phenology and Productivity parameters) in both UTM and LAEA projections:"
   ]
  },
  {
   "cell_type": "code",
   "execution_count": 20,
   "metadata": {},
   "outputs": [
    {
     "data": {
      "text/html": [
       "<style  type=\"text/css\" >\n",
       "    #T_f023e7d4_6012_11ed_9304_0a580af443bfrow0_col0 {\n",
       "            text-align:  left;\n",
       "        }    #T_f023e7d4_6012_11ed_9304_0a580af443bfrow0_col1 {\n",
       "            text-align:  left;\n",
       "        }    #T_f023e7d4_6012_11ed_9304_0a580af443bfrow1_col0 {\n",
       "            text-align:  left;\n",
       "        }    #T_f023e7d4_6012_11ed_9304_0a580af443bfrow1_col1 {\n",
       "            text-align:  left;\n",
       "        }    #T_f023e7d4_6012_11ed_9304_0a580af443bfrow2_col0 {\n",
       "            text-align:  left;\n",
       "        }    #T_f023e7d4_6012_11ed_9304_0a580af443bfrow2_col1 {\n",
       "            text-align:  left;\n",
       "        }    #T_f023e7d4_6012_11ed_9304_0a580af443bfrow3_col0 {\n",
       "            text-align:  left;\n",
       "        }    #T_f023e7d4_6012_11ed_9304_0a580af443bfrow3_col1 {\n",
       "            text-align:  left;\n",
       "        }    #T_f023e7d4_6012_11ed_9304_0a580af443bfrow4_col0 {\n",
       "            text-align:  left;\n",
       "        }    #T_f023e7d4_6012_11ed_9304_0a580af443bfrow4_col1 {\n",
       "            text-align:  left;\n",
       "        }</style><table id=\"T_f023e7d4_6012_11ed_9304_0a580af443bf\" ><thead>    <tr>        <th class=\"blank level0\" ></th>        <th class=\"col_heading level0 col0\" >Identifier</th>        <th class=\"col_heading level0 col1\" >Description</th>    </tr></thead><tbody>\n",
       "                <tr>\n",
       "                        <th id=\"T_f023e7d4_6012_11ed_9304_0a580af443bflevel0_row0\" class=\"row_heading level0 row0\" >0</th>\n",
       "                        <td id=\"T_f023e7d4_6012_11ed_9304_0a580af443bfrow0_col0\" class=\"data row0 col0\" >copernicus_r_3035_x_m_hrvpp-st_p_2017-now_v01</td>\n",
       "                        <td id=\"T_f023e7d4_6012_11ed_9304_0a580af443bfrow0_col1\" class=\"data row0 col1\" >Seasonal Trajectories, 10-daily, LAEA projection </td>\n",
       "            </tr>\n",
       "            <tr>\n",
       "                        <th id=\"T_f023e7d4_6012_11ed_9304_0a580af443bflevel0_row1\" class=\"row_heading level0 row1\" >1</th>\n",
       "                        <td id=\"T_f023e7d4_6012_11ed_9304_0a580af443bfrow1_col0\" class=\"data row1 col0\" >copernicus_r_3035_x_m_hrvpp-vpp_p_2017-now_v01</td>\n",
       "                        <td id=\"T_f023e7d4_6012_11ed_9304_0a580af443bfrow1_col1\" class=\"data row1 col1\" >Vegetation Phenology and Productivity parameters, yearly, LAEA projection</td>\n",
       "            </tr>\n",
       "            <tr>\n",
       "                        <th id=\"T_f023e7d4_6012_11ed_9304_0a580af443bflevel0_row2\" class=\"row_heading level0 row2\" >2</th>\n",
       "                        <td id=\"T_f023e7d4_6012_11ed_9304_0a580af443bfrow2_col0\" class=\"data row2 col0\" >copernicus_r_utm-wgs84_10_m_hrvpp-st_p_2017-now_v01</td>\n",
       "                        <td id=\"T_f023e7d4_6012_11ed_9304_0a580af443bfrow2_col1\" class=\"data row2 col1\" >Seasonal Trajectories, 10-daily, UTM projection</td>\n",
       "            </tr>\n",
       "            <tr>\n",
       "                        <th id=\"T_f023e7d4_6012_11ed_9304_0a580af443bflevel0_row3\" class=\"row_heading level0 row3\" >3</th>\n",
       "                        <td id=\"T_f023e7d4_6012_11ed_9304_0a580af443bfrow3_col0\" class=\"data row3 col0\" >copernicus_r_utm-wgs84_10_m_hrvpp-vi_p_2017-now_v01</td>\n",
       "                        <td id=\"T_f023e7d4_6012_11ed_9304_0a580af443bfrow3_col1\" class=\"data row3 col1\" >Vegetation Indices, daily, UTM projection</td>\n",
       "            </tr>\n",
       "            <tr>\n",
       "                        <th id=\"T_f023e7d4_6012_11ed_9304_0a580af443bflevel0_row4\" class=\"row_heading level0 row4\" >4</th>\n",
       "                        <td id=\"T_f023e7d4_6012_11ed_9304_0a580af443bfrow4_col0\" class=\"data row4 col0\" >copernicus_r_utm-wgs84_10_m_hrvpp-vpp_p_2017-now_v01</td>\n",
       "                        <td id=\"T_f023e7d4_6012_11ed_9304_0a580af443bfrow4_col1\" class=\"data row4 col1\" >Vegetation Phenology and Productivity parameters, yearly, UTM projection</td>\n",
       "            </tr>\n",
       "    </tbody></table>"
      ],
      "text/plain": [
       "<pandas.io.formats.style.Styler at 0x7f6e8d8300a0>"
      ]
     },
     "execution_count": 20,
     "metadata": {},
     "output_type": "execute_result"
    }
   ],
   "source": [
    "import pandas as pd\n",
    "collections = catalogue.get_collections()\n",
    "\n",
    "rows = []\n",
    "for c in collections:\n",
    "    rows.append([c.id, c.properties['title']])\n",
    "\n",
    "df = pd.DataFrame(data = rows, columns = ['Identifier', 'Description'])\n",
    "df.style.set_properties(**{'text-align': 'left'})"
   ]
  },
  {
   "cell_type": "markdown",
   "metadata": {},
   "source": [
    "#### Search products <a class=\"anchor\" id=\"search-products\"></a>"
   ]
  },
  {
   "cell_type": "markdown",
   "metadata": {},
   "source": [
    "Let's search for all VPP parameters for one UTM tile for 2020 using the VPP UTM collection.\n",
    "Products are returned as a Python generator! If you want to be able to iterate over the results more than once, you can convert it to a list.\n",
    "Mind that this will load all results in memory, which could be huge depending on the number of results returned!"
   ]
  },
  {
   "cell_type": "code",
   "execution_count": 23,
   "metadata": {},
   "outputs": [
    {
     "data": {
      "text/html": [
       "<style  type=\"text/css\" >\n",
       "    #T_6c0a8b0a_6013_11ed_9304_0a580af443bfrow0_col0 {\n",
       "            text-align:  left;\n",
       "        }    #T_6c0a8b0a_6013_11ed_9304_0a580af443bfrow0_col1 {\n",
       "            text-align:  left;\n",
       "        }    #T_6c0a8b0a_6013_11ed_9304_0a580af443bfrow0_col2 {\n",
       "            text-align:  left;\n",
       "        }    #T_6c0a8b0a_6013_11ed_9304_0a580af443bfrow1_col0 {\n",
       "            text-align:  left;\n",
       "        }    #T_6c0a8b0a_6013_11ed_9304_0a580af443bfrow1_col1 {\n",
       "            text-align:  left;\n",
       "        }    #T_6c0a8b0a_6013_11ed_9304_0a580af443bfrow1_col2 {\n",
       "            text-align:  left;\n",
       "        }    #T_6c0a8b0a_6013_11ed_9304_0a580af443bfrow2_col0 {\n",
       "            text-align:  left;\n",
       "        }    #T_6c0a8b0a_6013_11ed_9304_0a580af443bfrow2_col1 {\n",
       "            text-align:  left;\n",
       "        }    #T_6c0a8b0a_6013_11ed_9304_0a580af443bfrow2_col2 {\n",
       "            text-align:  left;\n",
       "        }    #T_6c0a8b0a_6013_11ed_9304_0a580af443bfrow3_col0 {\n",
       "            text-align:  left;\n",
       "        }    #T_6c0a8b0a_6013_11ed_9304_0a580af443bfrow3_col1 {\n",
       "            text-align:  left;\n",
       "        }    #T_6c0a8b0a_6013_11ed_9304_0a580af443bfrow3_col2 {\n",
       "            text-align:  left;\n",
       "        }    #T_6c0a8b0a_6013_11ed_9304_0a580af443bfrow4_col0 {\n",
       "            text-align:  left;\n",
       "        }    #T_6c0a8b0a_6013_11ed_9304_0a580af443bfrow4_col1 {\n",
       "            text-align:  left;\n",
       "        }    #T_6c0a8b0a_6013_11ed_9304_0a580af443bfrow4_col2 {\n",
       "            text-align:  left;\n",
       "        }    #T_6c0a8b0a_6013_11ed_9304_0a580af443bfrow5_col0 {\n",
       "            text-align:  left;\n",
       "        }    #T_6c0a8b0a_6013_11ed_9304_0a580af443bfrow5_col1 {\n",
       "            text-align:  left;\n",
       "        }    #T_6c0a8b0a_6013_11ed_9304_0a580af443bfrow5_col2 {\n",
       "            text-align:  left;\n",
       "        }    #T_6c0a8b0a_6013_11ed_9304_0a580af443bfrow6_col0 {\n",
       "            text-align:  left;\n",
       "        }    #T_6c0a8b0a_6013_11ed_9304_0a580af443bfrow6_col1 {\n",
       "            text-align:  left;\n",
       "        }    #T_6c0a8b0a_6013_11ed_9304_0a580af443bfrow6_col2 {\n",
       "            text-align:  left;\n",
       "        }    #T_6c0a8b0a_6013_11ed_9304_0a580af443bfrow7_col0 {\n",
       "            text-align:  left;\n",
       "        }    #T_6c0a8b0a_6013_11ed_9304_0a580af443bfrow7_col1 {\n",
       "            text-align:  left;\n",
       "        }    #T_6c0a8b0a_6013_11ed_9304_0a580af443bfrow7_col2 {\n",
       "            text-align:  left;\n",
       "        }    #T_6c0a8b0a_6013_11ed_9304_0a580af443bfrow8_col0 {\n",
       "            text-align:  left;\n",
       "        }    #T_6c0a8b0a_6013_11ed_9304_0a580af443bfrow8_col1 {\n",
       "            text-align:  left;\n",
       "        }    #T_6c0a8b0a_6013_11ed_9304_0a580af443bfrow8_col2 {\n",
       "            text-align:  left;\n",
       "        }    #T_6c0a8b0a_6013_11ed_9304_0a580af443bfrow9_col0 {\n",
       "            text-align:  left;\n",
       "        }    #T_6c0a8b0a_6013_11ed_9304_0a580af443bfrow9_col1 {\n",
       "            text-align:  left;\n",
       "        }    #T_6c0a8b0a_6013_11ed_9304_0a580af443bfrow9_col2 {\n",
       "            text-align:  left;\n",
       "        }    #T_6c0a8b0a_6013_11ed_9304_0a580af443bfrow10_col0 {\n",
       "            text-align:  left;\n",
       "        }    #T_6c0a8b0a_6013_11ed_9304_0a580af443bfrow10_col1 {\n",
       "            text-align:  left;\n",
       "        }    #T_6c0a8b0a_6013_11ed_9304_0a580af443bfrow10_col2 {\n",
       "            text-align:  left;\n",
       "        }    #T_6c0a8b0a_6013_11ed_9304_0a580af443bfrow11_col0 {\n",
       "            text-align:  left;\n",
       "        }    #T_6c0a8b0a_6013_11ed_9304_0a580af443bfrow11_col1 {\n",
       "            text-align:  left;\n",
       "        }    #T_6c0a8b0a_6013_11ed_9304_0a580af443bfrow11_col2 {\n",
       "            text-align:  left;\n",
       "        }    #T_6c0a8b0a_6013_11ed_9304_0a580af443bfrow12_col0 {\n",
       "            text-align:  left;\n",
       "        }    #T_6c0a8b0a_6013_11ed_9304_0a580af443bfrow12_col1 {\n",
       "            text-align:  left;\n",
       "        }    #T_6c0a8b0a_6013_11ed_9304_0a580af443bfrow12_col2 {\n",
       "            text-align:  left;\n",
       "        }    #T_6c0a8b0a_6013_11ed_9304_0a580af443bfrow13_col0 {\n",
       "            text-align:  left;\n",
       "        }    #T_6c0a8b0a_6013_11ed_9304_0a580af443bfrow13_col1 {\n",
       "            text-align:  left;\n",
       "        }    #T_6c0a8b0a_6013_11ed_9304_0a580af443bfrow13_col2 {\n",
       "            text-align:  left;\n",
       "        }    #T_6c0a8b0a_6013_11ed_9304_0a580af443bfrow14_col0 {\n",
       "            text-align:  left;\n",
       "        }    #T_6c0a8b0a_6013_11ed_9304_0a580af443bfrow14_col1 {\n",
       "            text-align:  left;\n",
       "        }    #T_6c0a8b0a_6013_11ed_9304_0a580af443bfrow14_col2 {\n",
       "            text-align:  left;\n",
       "        }    #T_6c0a8b0a_6013_11ed_9304_0a580af443bfrow15_col0 {\n",
       "            text-align:  left;\n",
       "        }    #T_6c0a8b0a_6013_11ed_9304_0a580af443bfrow15_col1 {\n",
       "            text-align:  left;\n",
       "        }    #T_6c0a8b0a_6013_11ed_9304_0a580af443bfrow15_col2 {\n",
       "            text-align:  left;\n",
       "        }    #T_6c0a8b0a_6013_11ed_9304_0a580af443bfrow16_col0 {\n",
       "            text-align:  left;\n",
       "        }    #T_6c0a8b0a_6013_11ed_9304_0a580af443bfrow16_col1 {\n",
       "            text-align:  left;\n",
       "        }    #T_6c0a8b0a_6013_11ed_9304_0a580af443bfrow16_col2 {\n",
       "            text-align:  left;\n",
       "        }    #T_6c0a8b0a_6013_11ed_9304_0a580af443bfrow17_col0 {\n",
       "            text-align:  left;\n",
       "        }    #T_6c0a8b0a_6013_11ed_9304_0a580af443bfrow17_col1 {\n",
       "            text-align:  left;\n",
       "        }    #T_6c0a8b0a_6013_11ed_9304_0a580af443bfrow17_col2 {\n",
       "            text-align:  left;\n",
       "        }    #T_6c0a8b0a_6013_11ed_9304_0a580af443bfrow18_col0 {\n",
       "            text-align:  left;\n",
       "        }    #T_6c0a8b0a_6013_11ed_9304_0a580af443bfrow18_col1 {\n",
       "            text-align:  left;\n",
       "        }    #T_6c0a8b0a_6013_11ed_9304_0a580af443bfrow18_col2 {\n",
       "            text-align:  left;\n",
       "        }    #T_6c0a8b0a_6013_11ed_9304_0a580af443bfrow19_col0 {\n",
       "            text-align:  left;\n",
       "        }    #T_6c0a8b0a_6013_11ed_9304_0a580af443bfrow19_col1 {\n",
       "            text-align:  left;\n",
       "        }    #T_6c0a8b0a_6013_11ed_9304_0a580af443bfrow19_col2 {\n",
       "            text-align:  left;\n",
       "        }    #T_6c0a8b0a_6013_11ed_9304_0a580af443bfrow20_col0 {\n",
       "            text-align:  left;\n",
       "        }    #T_6c0a8b0a_6013_11ed_9304_0a580af443bfrow20_col1 {\n",
       "            text-align:  left;\n",
       "        }    #T_6c0a8b0a_6013_11ed_9304_0a580af443bfrow20_col2 {\n",
       "            text-align:  left;\n",
       "        }    #T_6c0a8b0a_6013_11ed_9304_0a580af443bfrow21_col0 {\n",
       "            text-align:  left;\n",
       "        }    #T_6c0a8b0a_6013_11ed_9304_0a580af443bfrow21_col1 {\n",
       "            text-align:  left;\n",
       "        }    #T_6c0a8b0a_6013_11ed_9304_0a580af443bfrow21_col2 {\n",
       "            text-align:  left;\n",
       "        }    #T_6c0a8b0a_6013_11ed_9304_0a580af443bfrow22_col0 {\n",
       "            text-align:  left;\n",
       "        }    #T_6c0a8b0a_6013_11ed_9304_0a580af443bfrow22_col1 {\n",
       "            text-align:  left;\n",
       "        }    #T_6c0a8b0a_6013_11ed_9304_0a580af443bfrow22_col2 {\n",
       "            text-align:  left;\n",
       "        }    #T_6c0a8b0a_6013_11ed_9304_0a580af443bfrow23_col0 {\n",
       "            text-align:  left;\n",
       "        }    #T_6c0a8b0a_6013_11ed_9304_0a580af443bfrow23_col1 {\n",
       "            text-align:  left;\n",
       "        }    #T_6c0a8b0a_6013_11ed_9304_0a580af443bfrow23_col2 {\n",
       "            text-align:  left;\n",
       "        }    #T_6c0a8b0a_6013_11ed_9304_0a580af443bfrow24_col0 {\n",
       "            text-align:  left;\n",
       "        }    #T_6c0a8b0a_6013_11ed_9304_0a580af443bfrow24_col1 {\n",
       "            text-align:  left;\n",
       "        }    #T_6c0a8b0a_6013_11ed_9304_0a580af443bfrow24_col2 {\n",
       "            text-align:  left;\n",
       "        }    #T_6c0a8b0a_6013_11ed_9304_0a580af443bfrow25_col0 {\n",
       "            text-align:  left;\n",
       "        }    #T_6c0a8b0a_6013_11ed_9304_0a580af443bfrow25_col1 {\n",
       "            text-align:  left;\n",
       "        }    #T_6c0a8b0a_6013_11ed_9304_0a580af443bfrow25_col2 {\n",
       "            text-align:  left;\n",
       "        }    #T_6c0a8b0a_6013_11ed_9304_0a580af443bfrow26_col0 {\n",
       "            text-align:  left;\n",
       "        }    #T_6c0a8b0a_6013_11ed_9304_0a580af443bfrow26_col1 {\n",
       "            text-align:  left;\n",
       "        }    #T_6c0a8b0a_6013_11ed_9304_0a580af443bfrow26_col2 {\n",
       "            text-align:  left;\n",
       "        }    #T_6c0a8b0a_6013_11ed_9304_0a580af443bfrow27_col0 {\n",
       "            text-align:  left;\n",
       "        }    #T_6c0a8b0a_6013_11ed_9304_0a580af443bfrow27_col1 {\n",
       "            text-align:  left;\n",
       "        }    #T_6c0a8b0a_6013_11ed_9304_0a580af443bfrow27_col2 {\n",
       "            text-align:  left;\n",
       "        }</style><table id=\"T_6c0a8b0a_6013_11ed_9304_0a580af443bf\" ><thead>    <tr>        <th class=\"blank level0\" ></th>        <th class=\"col_heading level0 col0\" >Identifier</th>        <th class=\"col_heading level0 col1\" >URL</th>        <th class=\"col_heading level0 col2\" >Size (MB)</th>    </tr></thead><tbody>\n",
       "                <tr>\n",
       "                        <th id=\"T_6c0a8b0a_6013_11ed_9304_0a580af443bflevel0_row0\" class=\"row_heading level0 row0\" >0</th>\n",
       "                        <td id=\"T_6c0a8b0a_6013_11ed_9304_0a580af443bfrow0_col0\" class=\"data row0 col0\" >VPP_2020_S2_T31UFS-010m_V101_s1_AMPL</td>\n",
       "                        <td id=\"T_6c0a8b0a_6013_11ed_9304_0a580af443bfrow0_col1\" class=\"data row0 col1\" >https://phenology.vgt.vito.be/download/VPP_V01/2020/CLMS/Pan-European/Biophysical/VPP/v01/2020/s1/VPP_2020_S2_T31UFS-010m_V101_s1_AMPL.tif</td>\n",
       "                        <td id=\"T_6c0a8b0a_6013_11ed_9304_0a580af443bfrow0_col2\" class=\"data row0 col2\" >235.381</td>\n",
       "            </tr>\n",
       "            <tr>\n",
       "                        <th id=\"T_6c0a8b0a_6013_11ed_9304_0a580af443bflevel0_row1\" class=\"row_heading level0 row1\" >1</th>\n",
       "                        <td id=\"T_6c0a8b0a_6013_11ed_9304_0a580af443bfrow1_col0\" class=\"data row1 col0\" >VPP_2020_S2_T31UFS-010m_V101_s1_EOSD</td>\n",
       "                        <td id=\"T_6c0a8b0a_6013_11ed_9304_0a580af443bfrow1_col1\" class=\"data row1 col1\" >https://phenology.vgt.vito.be/download/VPP_V01/2020/CLMS/Pan-European/Biophysical/VPP/v01/2020/s1/VPP_2020_S2_T31UFS-010m_V101_s1_EOSD.tif</td>\n",
       "                        <td id=\"T_6c0a8b0a_6013_11ed_9304_0a580af443bfrow1_col2\" class=\"data row1 col2\" >136.215</td>\n",
       "            </tr>\n",
       "            <tr>\n",
       "                        <th id=\"T_6c0a8b0a_6013_11ed_9304_0a580af443bflevel0_row2\" class=\"row_heading level0 row2\" >2</th>\n",
       "                        <td id=\"T_6c0a8b0a_6013_11ed_9304_0a580af443bfrow2_col0\" class=\"data row2 col0\" >VPP_2020_S2_T31UFS-010m_V101_s1_EOSV</td>\n",
       "                        <td id=\"T_6c0a8b0a_6013_11ed_9304_0a580af443bfrow2_col1\" class=\"data row2 col1\" >https://phenology.vgt.vito.be/download/VPP_V01/2020/CLMS/Pan-European/Biophysical/VPP/v01/2020/s1/VPP_2020_S2_T31UFS-010m_V101_s1_EOSV.tif</td>\n",
       "                        <td id=\"T_6c0a8b0a_6013_11ed_9304_0a580af443bfrow2_col2\" class=\"data row2 col2\" >214.04</td>\n",
       "            </tr>\n",
       "            <tr>\n",
       "                        <th id=\"T_6c0a8b0a_6013_11ed_9304_0a580af443bflevel0_row3\" class=\"row_heading level0 row3\" >3</th>\n",
       "                        <td id=\"T_6c0a8b0a_6013_11ed_9304_0a580af443bfrow3_col0\" class=\"data row3 col0\" >VPP_2020_S2_T31UFS-010m_V101_s1_LENGTH</td>\n",
       "                        <td id=\"T_6c0a8b0a_6013_11ed_9304_0a580af443bfrow3_col1\" class=\"data row3 col1\" >https://phenology.vgt.vito.be/download/VPP_V01/2020/CLMS/Pan-European/Biophysical/VPP/v01/2020/s1/VPP_2020_S2_T31UFS-010m_V101_s1_LENGTH.tif</td>\n",
       "                        <td id=\"T_6c0a8b0a_6013_11ed_9304_0a580af443bfrow3_col2\" class=\"data row3 col2\" >141.398</td>\n",
       "            </tr>\n",
       "            <tr>\n",
       "                        <th id=\"T_6c0a8b0a_6013_11ed_9304_0a580af443bflevel0_row4\" class=\"row_heading level0 row4\" >4</th>\n",
       "                        <td id=\"T_6c0a8b0a_6013_11ed_9304_0a580af443bfrow4_col0\" class=\"data row4 col0\" >VPP_2020_S2_T31UFS-010m_V101_s1_LSLOPE</td>\n",
       "                        <td id=\"T_6c0a8b0a_6013_11ed_9304_0a580af443bfrow4_col1\" class=\"data row4 col1\" >https://phenology.vgt.vito.be/download/VPP_V01/2020/CLMS/Pan-European/Biophysical/VPP/v01/2020/s1/VPP_2020_S2_T31UFS-010m_V101_s1_LSLOPE.tif</td>\n",
       "                        <td id=\"T_6c0a8b0a_6013_11ed_9304_0a580af443bfrow4_col2\" class=\"data row4 col2\" >167.612</td>\n",
       "            </tr>\n",
       "            <tr>\n",
       "                        <th id=\"T_6c0a8b0a_6013_11ed_9304_0a580af443bflevel0_row5\" class=\"row_heading level0 row5\" >5</th>\n",
       "                        <td id=\"T_6c0a8b0a_6013_11ed_9304_0a580af443bfrow5_col0\" class=\"data row5 col0\" >VPP_2020_S2_T31UFS-010m_V101_s1_MAXD</td>\n",
       "                        <td id=\"T_6c0a8b0a_6013_11ed_9304_0a580af443bfrow5_col1\" class=\"data row5 col1\" >https://phenology.vgt.vito.be/download/VPP_V01/2020/CLMS/Pan-European/Biophysical/VPP/v01/2020/s1/VPP_2020_S2_T31UFS-010m_V101_s1_MAXD.tif</td>\n",
       "                        <td id=\"T_6c0a8b0a_6013_11ed_9304_0a580af443bfrow5_col2\" class=\"data row5 col2\" >127.254</td>\n",
       "            </tr>\n",
       "            <tr>\n",
       "                        <th id=\"T_6c0a8b0a_6013_11ed_9304_0a580af443bflevel0_row6\" class=\"row_heading level0 row6\" >6</th>\n",
       "                        <td id=\"T_6c0a8b0a_6013_11ed_9304_0a580af443bfrow6_col0\" class=\"data row6 col0\" >VPP_2020_S2_T31UFS-010m_V101_s1_MAXV</td>\n",
       "                        <td id=\"T_6c0a8b0a_6013_11ed_9304_0a580af443bfrow6_col1\" class=\"data row6 col1\" >https://phenology.vgt.vito.be/download/VPP_V01/2020/CLMS/Pan-European/Biophysical/VPP/v01/2020/s1/VPP_2020_S2_T31UFS-010m_V101_s1_MAXV.tif</td>\n",
       "                        <td id=\"T_6c0a8b0a_6013_11ed_9304_0a580af443bfrow6_col2\" class=\"data row6 col2\" >235.424</td>\n",
       "            </tr>\n",
       "            <tr>\n",
       "                        <th id=\"T_6c0a8b0a_6013_11ed_9304_0a580af443bflevel0_row7\" class=\"row_heading level0 row7\" >7</th>\n",
       "                        <td id=\"T_6c0a8b0a_6013_11ed_9304_0a580af443bfrow7_col0\" class=\"data row7 col0\" >VPP_2020_S2_T31UFS-010m_V101_s1_MINV</td>\n",
       "                        <td id=\"T_6c0a8b0a_6013_11ed_9304_0a580af443bfrow7_col1\" class=\"data row7 col1\" >https://phenology.vgt.vito.be/download/VPP_V01/2020/CLMS/Pan-European/Biophysical/VPP/v01/2020/s1/VPP_2020_S2_T31UFS-010m_V101_s1_MINV.tif</td>\n",
       "                        <td id=\"T_6c0a8b0a_6013_11ed_9304_0a580af443bfrow7_col2\" class=\"data row7 col2\" >191.541</td>\n",
       "            </tr>\n",
       "            <tr>\n",
       "                        <th id=\"T_6c0a8b0a_6013_11ed_9304_0a580af443bflevel0_row8\" class=\"row_heading level0 row8\" >8</th>\n",
       "                        <td id=\"T_6c0a8b0a_6013_11ed_9304_0a580af443bfrow8_col0\" class=\"data row8 col0\" >VPP_2020_S2_T31UFS-010m_V101_s1_QFLAG</td>\n",
       "                        <td id=\"T_6c0a8b0a_6013_11ed_9304_0a580af443bfrow8_col1\" class=\"data row8 col1\" >https://phenology.vgt.vito.be/download/VPP_V01/2020/CLMS/Pan-European/Biophysical/VPP/v01/2020/s1/VPP_2020_S2_T31UFS-010m_V101_s1_QFLAG.tif</td>\n",
       "                        <td id=\"T_6c0a8b0a_6013_11ed_9304_0a580af443bfrow8_col2\" class=\"data row8 col2\" >18.2049</td>\n",
       "            </tr>\n",
       "            <tr>\n",
       "                        <th id=\"T_6c0a8b0a_6013_11ed_9304_0a580af443bflevel0_row9\" class=\"row_heading level0 row9\" >9</th>\n",
       "                        <td id=\"T_6c0a8b0a_6013_11ed_9304_0a580af443bfrow9_col0\" class=\"data row9 col0\" >VPP_2020_S2_T31UFS-010m_V101_s1_RSLOPE</td>\n",
       "                        <td id=\"T_6c0a8b0a_6013_11ed_9304_0a580af443bfrow9_col1\" class=\"data row9 col1\" >https://phenology.vgt.vito.be/download/VPP_V01/2020/CLMS/Pan-European/Biophysical/VPP/v01/2020/s1/VPP_2020_S2_T31UFS-010m_V101_s1_RSLOPE.tif</td>\n",
       "                        <td id=\"T_6c0a8b0a_6013_11ed_9304_0a580af443bfrow9_col2\" class=\"data row9 col2\" >160.235</td>\n",
       "            </tr>\n",
       "            <tr>\n",
       "                        <th id=\"T_6c0a8b0a_6013_11ed_9304_0a580af443bflevel0_row10\" class=\"row_heading level0 row10\" >10</th>\n",
       "                        <td id=\"T_6c0a8b0a_6013_11ed_9304_0a580af443bfrow10_col0\" class=\"data row10 col0\" >VPP_2020_S2_T31UFS-010m_V101_s1_SOSD</td>\n",
       "                        <td id=\"T_6c0a8b0a_6013_11ed_9304_0a580af443bfrow10_col1\" class=\"data row10 col1\" >https://phenology.vgt.vito.be/download/VPP_V01/2020/CLMS/Pan-European/Biophysical/VPP/v01/2020/s1/VPP_2020_S2_T31UFS-010m_V101_s1_SOSD.tif</td>\n",
       "                        <td id=\"T_6c0a8b0a_6013_11ed_9304_0a580af443bfrow10_col2\" class=\"data row10 col2\" >124.427</td>\n",
       "            </tr>\n",
       "            <tr>\n",
       "                        <th id=\"T_6c0a8b0a_6013_11ed_9304_0a580af443bflevel0_row11\" class=\"row_heading level0 row11\" >11</th>\n",
       "                        <td id=\"T_6c0a8b0a_6013_11ed_9304_0a580af443bfrow11_col0\" class=\"data row11 col0\" >VPP_2020_S2_T31UFS-010m_V101_s1_SOSV</td>\n",
       "                        <td id=\"T_6c0a8b0a_6013_11ed_9304_0a580af443bfrow11_col1\" class=\"data row11 col1\" >https://phenology.vgt.vito.be/download/VPP_V01/2020/CLMS/Pan-European/Biophysical/VPP/v01/2020/s1/VPP_2020_S2_T31UFS-010m_V101_s1_SOSV.tif</td>\n",
       "                        <td id=\"T_6c0a8b0a_6013_11ed_9304_0a580af443bfrow11_col2\" class=\"data row11 col2\" >218.985</td>\n",
       "            </tr>\n",
       "            <tr>\n",
       "                        <th id=\"T_6c0a8b0a_6013_11ed_9304_0a580af443bflevel0_row12\" class=\"row_heading level0 row12\" >12</th>\n",
       "                        <td id=\"T_6c0a8b0a_6013_11ed_9304_0a580af443bfrow12_col0\" class=\"data row12 col0\" >VPP_2020_S2_T31UFS-010m_V101_s1_SPROD</td>\n",
       "                        <td id=\"T_6c0a8b0a_6013_11ed_9304_0a580af443bfrow12_col1\" class=\"data row12 col1\" >https://phenology.vgt.vito.be/download/VPP_V01/2020/CLMS/Pan-European/Biophysical/VPP/v01/2020/s1/VPP_2020_S2_T31UFS-010m_V101_s1_SPROD.tif</td>\n",
       "                        <td id=\"T_6c0a8b0a_6013_11ed_9304_0a580af443bfrow12_col2\" class=\"data row12 col2\" >198.288</td>\n",
       "            </tr>\n",
       "            <tr>\n",
       "                        <th id=\"T_6c0a8b0a_6013_11ed_9304_0a580af443bflevel0_row13\" class=\"row_heading level0 row13\" >13</th>\n",
       "                        <td id=\"T_6c0a8b0a_6013_11ed_9304_0a580af443bfrow13_col0\" class=\"data row13 col0\" >VPP_2020_S2_T31UFS-010m_V101_s1_TPROD</td>\n",
       "                        <td id=\"T_6c0a8b0a_6013_11ed_9304_0a580af443bfrow13_col1\" class=\"data row13 col1\" >https://phenology.vgt.vito.be/download/VPP_V01/2020/CLMS/Pan-European/Biophysical/VPP/v01/2020/s1/VPP_2020_S2_T31UFS-010m_V101_s1_TPROD.tif</td>\n",
       "                        <td id=\"T_6c0a8b0a_6013_11ed_9304_0a580af443bfrow13_col2\" class=\"data row13 col2\" >200.823</td>\n",
       "            </tr>\n",
       "            <tr>\n",
       "                        <th id=\"T_6c0a8b0a_6013_11ed_9304_0a580af443bflevel0_row14\" class=\"row_heading level0 row14\" >14</th>\n",
       "                        <td id=\"T_6c0a8b0a_6013_11ed_9304_0a580af443bfrow14_col0\" class=\"data row14 col0\" >VPP_2020_S2_T31UFS-010m_V101_s2_AMPL</td>\n",
       "                        <td id=\"T_6c0a8b0a_6013_11ed_9304_0a580af443bfrow14_col1\" class=\"data row14 col1\" >https://phenology.vgt.vito.be/download/VPP_V01/2020/CLMS/Pan-European/Biophysical/VPP/v01/2020/s2/VPP_2020_S2_T31UFS-010m_V101_s2_AMPL.tif</td>\n",
       "                        <td id=\"T_6c0a8b0a_6013_11ed_9304_0a580af443bfrow14_col2\" class=\"data row14 col2\" >89.5809</td>\n",
       "            </tr>\n",
       "            <tr>\n",
       "                        <th id=\"T_6c0a8b0a_6013_11ed_9304_0a580af443bflevel0_row15\" class=\"row_heading level0 row15\" >15</th>\n",
       "                        <td id=\"T_6c0a8b0a_6013_11ed_9304_0a580af443bfrow15_col0\" class=\"data row15 col0\" >VPP_2020_S2_T31UFS-010m_V101_s2_EOSD</td>\n",
       "                        <td id=\"T_6c0a8b0a_6013_11ed_9304_0a580af443bfrow15_col1\" class=\"data row15 col1\" >https://phenology.vgt.vito.be/download/VPP_V01/2020/CLMS/Pan-European/Biophysical/VPP/v01/2020/s2/VPP_2020_S2_T31UFS-010m_V101_s2_EOSD.tif</td>\n",
       "                        <td id=\"T_6c0a8b0a_6013_11ed_9304_0a580af443bfrow15_col2\" class=\"data row15 col2\" >52.2721</td>\n",
       "            </tr>\n",
       "            <tr>\n",
       "                        <th id=\"T_6c0a8b0a_6013_11ed_9304_0a580af443bflevel0_row16\" class=\"row_heading level0 row16\" >16</th>\n",
       "                        <td id=\"T_6c0a8b0a_6013_11ed_9304_0a580af443bfrow16_col0\" class=\"data row16 col0\" >VPP_2020_S2_T31UFS-010m_V101_s2_EOSV</td>\n",
       "                        <td id=\"T_6c0a8b0a_6013_11ed_9304_0a580af443bfrow16_col1\" class=\"data row16 col1\" >https://phenology.vgt.vito.be/download/VPP_V01/2020/CLMS/Pan-European/Biophysical/VPP/v01/2020/s2/VPP_2020_S2_T31UFS-010m_V101_s2_EOSV.tif</td>\n",
       "                        <td id=\"T_6c0a8b0a_6013_11ed_9304_0a580af443bfrow16_col2\" class=\"data row16 col2\" >82.3854</td>\n",
       "            </tr>\n",
       "            <tr>\n",
       "                        <th id=\"T_6c0a8b0a_6013_11ed_9304_0a580af443bflevel0_row17\" class=\"row_heading level0 row17\" >17</th>\n",
       "                        <td id=\"T_6c0a8b0a_6013_11ed_9304_0a580af443bfrow17_col0\" class=\"data row17 col0\" >VPP_2020_S2_T31UFS-010m_V101_s2_LENGTH</td>\n",
       "                        <td id=\"T_6c0a8b0a_6013_11ed_9304_0a580af443bfrow17_col1\" class=\"data row17 col1\" >https://phenology.vgt.vito.be/download/VPP_V01/2020/CLMS/Pan-European/Biophysical/VPP/v01/2020/s2/VPP_2020_S2_T31UFS-010m_V101_s2_LENGTH.tif</td>\n",
       "                        <td id=\"T_6c0a8b0a_6013_11ed_9304_0a580af443bfrow17_col2\" class=\"data row17 col2\" >53.8054</td>\n",
       "            </tr>\n",
       "            <tr>\n",
       "                        <th id=\"T_6c0a8b0a_6013_11ed_9304_0a580af443bflevel0_row18\" class=\"row_heading level0 row18\" >18</th>\n",
       "                        <td id=\"T_6c0a8b0a_6013_11ed_9304_0a580af443bfrow18_col0\" class=\"data row18 col0\" >VPP_2020_S2_T31UFS-010m_V101_s2_LSLOPE</td>\n",
       "                        <td id=\"T_6c0a8b0a_6013_11ed_9304_0a580af443bfrow18_col1\" class=\"data row18 col1\" >https://phenology.vgt.vito.be/download/VPP_V01/2020/CLMS/Pan-European/Biophysical/VPP/v01/2020/s2/VPP_2020_S2_T31UFS-010m_V101_s2_LSLOPE.tif</td>\n",
       "                        <td id=\"T_6c0a8b0a_6013_11ed_9304_0a580af443bfrow18_col2\" class=\"data row18 col2\" >68.9767</td>\n",
       "            </tr>\n",
       "            <tr>\n",
       "                        <th id=\"T_6c0a8b0a_6013_11ed_9304_0a580af443bflevel0_row19\" class=\"row_heading level0 row19\" >19</th>\n",
       "                        <td id=\"T_6c0a8b0a_6013_11ed_9304_0a580af443bfrow19_col0\" class=\"data row19 col0\" >VPP_2020_S2_T31UFS-010m_V101_s2_MAXD</td>\n",
       "                        <td id=\"T_6c0a8b0a_6013_11ed_9304_0a580af443bfrow19_col1\" class=\"data row19 col1\" >https://phenology.vgt.vito.be/download/VPP_V01/2020/CLMS/Pan-European/Biophysical/VPP/v01/2020/s2/VPP_2020_S2_T31UFS-010m_V101_s2_MAXD.tif</td>\n",
       "                        <td id=\"T_6c0a8b0a_6013_11ed_9304_0a580af443bfrow19_col2\" class=\"data row19 col2\" >49.5215</td>\n",
       "            </tr>\n",
       "            <tr>\n",
       "                        <th id=\"T_6c0a8b0a_6013_11ed_9304_0a580af443bflevel0_row20\" class=\"row_heading level0 row20\" >20</th>\n",
       "                        <td id=\"T_6c0a8b0a_6013_11ed_9304_0a580af443bfrow20_col0\" class=\"data row20 col0\" >VPP_2020_S2_T31UFS-010m_V101_s2_MAXV</td>\n",
       "                        <td id=\"T_6c0a8b0a_6013_11ed_9304_0a580af443bfrow20_col1\" class=\"data row20 col1\" >https://phenology.vgt.vito.be/download/VPP_V01/2020/CLMS/Pan-European/Biophysical/VPP/v01/2020/s2/VPP_2020_S2_T31UFS-010m_V101_s2_MAXV.tif</td>\n",
       "                        <td id=\"T_6c0a8b0a_6013_11ed_9304_0a580af443bfrow20_col2\" class=\"data row20 col2\" >89.4629</td>\n",
       "            </tr>\n",
       "            <tr>\n",
       "                        <th id=\"T_6c0a8b0a_6013_11ed_9304_0a580af443bflevel0_row21\" class=\"row_heading level0 row21\" >21</th>\n",
       "                        <td id=\"T_6c0a8b0a_6013_11ed_9304_0a580af443bfrow21_col0\" class=\"data row21 col0\" >VPP_2020_S2_T31UFS-010m_V101_s2_MINV</td>\n",
       "                        <td id=\"T_6c0a8b0a_6013_11ed_9304_0a580af443bfrow21_col1\" class=\"data row21 col1\" >https://phenology.vgt.vito.be/download/VPP_V01/2020/CLMS/Pan-European/Biophysical/VPP/v01/2020/s2/VPP_2020_S2_T31UFS-010m_V101_s2_MINV.tif</td>\n",
       "                        <td id=\"T_6c0a8b0a_6013_11ed_9304_0a580af443bfrow21_col2\" class=\"data row21 col2\" >79.8366</td>\n",
       "            </tr>\n",
       "            <tr>\n",
       "                        <th id=\"T_6c0a8b0a_6013_11ed_9304_0a580af443bflevel0_row22\" class=\"row_heading level0 row22\" >22</th>\n",
       "                        <td id=\"T_6c0a8b0a_6013_11ed_9304_0a580af443bfrow22_col0\" class=\"data row22 col0\" >VPP_2020_S2_T31UFS-010m_V101_s2_QFLAG</td>\n",
       "                        <td id=\"T_6c0a8b0a_6013_11ed_9304_0a580af443bfrow22_col1\" class=\"data row22 col1\" >https://phenology.vgt.vito.be/download/VPP_V01/2020/CLMS/Pan-European/Biophysical/VPP/v01/2020/s2/VPP_2020_S2_T31UFS-010m_V101_s2_QFLAG.tif</td>\n",
       "                        <td id=\"T_6c0a8b0a_6013_11ed_9304_0a580af443bfrow22_col2\" class=\"data row22 col2\" >20.1668</td>\n",
       "            </tr>\n",
       "            <tr>\n",
       "                        <th id=\"T_6c0a8b0a_6013_11ed_9304_0a580af443bflevel0_row23\" class=\"row_heading level0 row23\" >23</th>\n",
       "                        <td id=\"T_6c0a8b0a_6013_11ed_9304_0a580af443bfrow23_col0\" class=\"data row23 col0\" >VPP_2020_S2_T31UFS-010m_V101_s2_RSLOPE</td>\n",
       "                        <td id=\"T_6c0a8b0a_6013_11ed_9304_0a580af443bfrow23_col1\" class=\"data row23 col1\" >https://phenology.vgt.vito.be/download/VPP_V01/2020/CLMS/Pan-European/Biophysical/VPP/v01/2020/s2/VPP_2020_S2_T31UFS-010m_V101_s2_RSLOPE.tif</td>\n",
       "                        <td id=\"T_6c0a8b0a_6013_11ed_9304_0a580af443bfrow23_col2\" class=\"data row23 col2\" >68.2751</td>\n",
       "            </tr>\n",
       "            <tr>\n",
       "                        <th id=\"T_6c0a8b0a_6013_11ed_9304_0a580af443bflevel0_row24\" class=\"row_heading level0 row24\" >24</th>\n",
       "                        <td id=\"T_6c0a8b0a_6013_11ed_9304_0a580af443bfrow24_col0\" class=\"data row24 col0\" >VPP_2020_S2_T31UFS-010m_V101_s2_SOSD</td>\n",
       "                        <td id=\"T_6c0a8b0a_6013_11ed_9304_0a580af443bfrow24_col1\" class=\"data row24 col1\" >https://phenology.vgt.vito.be/download/VPP_V01/2020/CLMS/Pan-European/Biophysical/VPP/v01/2020/s2/VPP_2020_S2_T31UFS-010m_V101_s2_SOSD.tif</td>\n",
       "                        <td id=\"T_6c0a8b0a_6013_11ed_9304_0a580af443bfrow24_col2\" class=\"data row24 col2\" >48.9693</td>\n",
       "            </tr>\n",
       "            <tr>\n",
       "                        <th id=\"T_6c0a8b0a_6013_11ed_9304_0a580af443bflevel0_row25\" class=\"row_heading level0 row25\" >25</th>\n",
       "                        <td id=\"T_6c0a8b0a_6013_11ed_9304_0a580af443bfrow25_col0\" class=\"data row25 col0\" >VPP_2020_S2_T31UFS-010m_V101_s2_SOSV</td>\n",
       "                        <td id=\"T_6c0a8b0a_6013_11ed_9304_0a580af443bfrow25_col1\" class=\"data row25 col1\" >https://phenology.vgt.vito.be/download/VPP_V01/2020/CLMS/Pan-European/Biophysical/VPP/v01/2020/s2/VPP_2020_S2_T31UFS-010m_V101_s2_SOSV.tif</td>\n",
       "                        <td id=\"T_6c0a8b0a_6013_11ed_9304_0a580af443bfrow25_col2\" class=\"data row25 col2\" >84.78</td>\n",
       "            </tr>\n",
       "            <tr>\n",
       "                        <th id=\"T_6c0a8b0a_6013_11ed_9304_0a580af443bflevel0_row26\" class=\"row_heading level0 row26\" >26</th>\n",
       "                        <td id=\"T_6c0a8b0a_6013_11ed_9304_0a580af443bfrow26_col0\" class=\"data row26 col0\" >VPP_2020_S2_T31UFS-010m_V101_s2_SPROD</td>\n",
       "                        <td id=\"T_6c0a8b0a_6013_11ed_9304_0a580af443bfrow26_col1\" class=\"data row26 col1\" >https://phenology.vgt.vito.be/download/VPP_V01/2020/CLMS/Pan-European/Biophysical/VPP/v01/2020/s2/VPP_2020_S2_T31UFS-010m_V101_s2_SPROD.tif</td>\n",
       "                        <td id=\"T_6c0a8b0a_6013_11ed_9304_0a580af443bfrow26_col2\" class=\"data row26 col2\" >74.8243</td>\n",
       "            </tr>\n",
       "            <tr>\n",
       "                        <th id=\"T_6c0a8b0a_6013_11ed_9304_0a580af443bflevel0_row27\" class=\"row_heading level0 row27\" >27</th>\n",
       "                        <td id=\"T_6c0a8b0a_6013_11ed_9304_0a580af443bfrow27_col0\" class=\"data row27 col0\" >VPP_2020_S2_T31UFS-010m_V101_s2_TPROD</td>\n",
       "                        <td id=\"T_6c0a8b0a_6013_11ed_9304_0a580af443bfrow27_col1\" class=\"data row27 col1\" >https://phenology.vgt.vito.be/download/VPP_V01/2020/CLMS/Pan-European/Biophysical/VPP/v01/2020/s2/VPP_2020_S2_T31UFS-010m_V101_s2_TPROD.tif</td>\n",
       "                        <td id=\"T_6c0a8b0a_6013_11ed_9304_0a580af443bfrow27_col2\" class=\"data row27 col2\" >75.7491</td>\n",
       "            </tr>\n",
       "    </tbody></table>"
      ],
      "text/plain": [
       "<pandas.io.formats.style.Styler at 0x7f6e9f2df3d0>"
      ]
     },
     "execution_count": 23,
     "metadata": {},
     "output_type": "execute_result"
    }
   ],
   "source": [
    "import pandas as pd\n",
    "import datetime as dt\n",
    "\n",
    "rows = []\n",
    "products = catalogue.get_products(\n",
    "    \"copernicus_r_utm-wgs84_10_m_hrvpp-vpp_p_2017-now_v01\",\n",
    "    start=dt.date(2020, 1, 1),\n",
    "    end=dt.date(2020, 12, 31),\n",
    "    tileId=\"31UFS\"\n",
    ")\n",
    "for product in products:\n",
    "    rows.append([product.id, product.data[0].href, (product.data[0].length/(1024*1024))])\n",
    "\n",
    "df = pd.DataFrame(data = rows, columns = ['Identifier', 'URL', 'Size (MB)'])\n",
    "df.style.set_properties(**{'text-align': 'left'})"
   ]
  },
  {
   "cell_type": "markdown",
   "metadata": {},
   "source": [
    "You can also subset on productType and season as shown below:"
   ]
  },
  {
   "cell_type": "code",
   "execution_count": 24,
   "metadata": {},
   "outputs": [
    {
     "data": {
      "text/html": [
       "<style  type=\"text/css\" >\n",
       "    #T_9911ef08_6013_11ed_9304_0a580af443bfrow0_col0 {\n",
       "            text-align:  left;\n",
       "        }    #T_9911ef08_6013_11ed_9304_0a580af443bfrow0_col1 {\n",
       "            text-align:  left;\n",
       "        }    #T_9911ef08_6013_11ed_9304_0a580af443bfrow0_col2 {\n",
       "            text-align:  left;\n",
       "        }</style><table id=\"T_9911ef08_6013_11ed_9304_0a580af443bf\" ><thead>    <tr>        <th class=\"blank level0\" ></th>        <th class=\"col_heading level0 col0\" >Identifier</th>        <th class=\"col_heading level0 col1\" >URL</th>        <th class=\"col_heading level0 col2\" >Size (MB)</th>    </tr></thead><tbody>\n",
       "                <tr>\n",
       "                        <th id=\"T_9911ef08_6013_11ed_9304_0a580af443bflevel0_row0\" class=\"row_heading level0 row0\" >0</th>\n",
       "                        <td id=\"T_9911ef08_6013_11ed_9304_0a580af443bfrow0_col0\" class=\"data row0 col0\" >VPP_2020_S2_T31UFS-010m_V101_s1_SOSV</td>\n",
       "                        <td id=\"T_9911ef08_6013_11ed_9304_0a580af443bfrow0_col1\" class=\"data row0 col1\" >https://phenology.vgt.vito.be/download/VPP_V01/2020/CLMS/Pan-European/Biophysical/VPP/v01/2020/s1/VPP_2020_S2_T31UFS-010m_V101_s1_SOSV.tif</td>\n",
       "                        <td id=\"T_9911ef08_6013_11ed_9304_0a580af443bfrow0_col2\" class=\"data row0 col2\" >218.985</td>\n",
       "            </tr>\n",
       "    </tbody></table>"
      ],
      "text/plain": [
       "<pandas.io.formats.style.Styler at 0x7f6e86023df0>"
      ]
     },
     "execution_count": 24,
     "metadata": {},
     "output_type": "execute_result"
    }
   ],
   "source": [
    "import datetime as dt\n",
    "products = catalogue.get_products(\n",
    "    \"copernicus_r_utm-wgs84_10_m_hrvpp-vpp_p_2017-now_v01\",\n",
    "    start=dt.date(2020, 1, 1),\n",
    "    end=dt.date(2020, 12, 31),\n",
    "    tileId=\"31UFS\",\n",
    "    productType=\"SOSV\",\n",
    "    productGroupId=\"s1\"\n",
    ")\n",
    "\n",
    "rows = []\n",
    "for product in products:\n",
    "    rows.append([product.id, product.data[0].href, (product.data[0].length/(1024*1024))])\n",
    "\n",
    "df = pd.DataFrame(data = rows, columns = ['Identifier', 'URL', 'Size (MB)'])\n",
    "df.style.set_properties(**{'text-align': 'left'})"
   ]
  },
  {
   "cell_type": "markdown",
   "metadata": {},
   "source": [
    "#### Download data <a class=\"anchor\" id=\"download-data\"></a>"
   ]
  },
  {
   "cell_type": "markdown",
   "metadata": {},
   "source": [
    "Let's download this data to the notebook environment. This requires a WekEO account, so let's retrieve the user credentials first:"
   ]
  },
  {
   "cell_type": "code",
   "execution_count": 8,
   "metadata": {},
   "outputs": [
    {
     "name": "stdin",
     "output_type": "stream",
     "text": [
      " demo4clms\n"
     ]
    }
   ],
   "source": [
    "wekeo_username = input()"
   ]
  },
  {
   "cell_type": "code",
   "execution_count": 9,
   "metadata": {},
   "outputs": [
    {
     "name": "stdin",
     "output_type": "stream",
     "text": [
      " ···········\n"
     ]
    }
   ],
   "source": [
    "import getpass\n",
    "wekeo_password = getpass.getpass()"
   ]
  },
  {
   "cell_type": "code",
   "execution_count": 10,
   "metadata": {},
   "outputs": [
    {
     "data": {
      "text/plain": [
       "<terracatalogueclient.client.Catalogue at 0x7f6ecc6e9700>"
      ]
     },
     "execution_count": 10,
     "metadata": {},
     "output_type": "execute_result"
    }
   ],
   "source": [
    "catalogue.authenticate_non_interactive(username=wekeo_username, password=wekeo_password)"
   ]
  },
  {
   "cell_type": "code",
   "execution_count": 11,
   "metadata": {},
   "outputs": [
    {
     "name": "stdin",
     "output_type": "stream",
     "text": [
      "You are about to download 229.62 MB, do you want to continue? [Y/n]  Y\n"
     ]
    }
   ],
   "source": [
    "catalogue.download_products(product_list, '/tmp')"
   ]
  },
  {
   "cell_type": "markdown",
   "metadata": {},
   "source": [
    "Finally, check if the data is downloaded:"
   ]
  },
  {
   "cell_type": "code",
   "execution_count": 12,
   "metadata": {},
   "outputs": [
    {
     "data": {
      "text/plain": [
       "['VPP_2020_S2_T31UFS-010m_V101_s1_SOSV.tif']"
      ]
     },
     "execution_count": 12,
     "metadata": {},
     "output_type": "execute_result"
    }
   ],
   "source": [
    "import os\n",
    "os.listdir('/tmp/VPP_2020_S2_T31UFS-010m_V101_s1_SOSV/')"
   ]
  },
  {
   "cell_type": "code",
   "execution_count": null,
   "metadata": {},
   "outputs": [],
   "source": []
  }
 ],
 "metadata": {
  "kernelspec": {
   "display_name": "Python 3 (ipykernel)",
   "language": "python",
   "name": "python3"
  },
  "language_info": {
   "codemirror_mode": {
    "name": "ipython",
    "version": 3
   },
   "file_extension": ".py",
   "mimetype": "text/x-python",
   "name": "python",
   "nbconvert_exporter": "python",
   "pygments_lexer": "ipython3",
   "version": "3.8.6"
  }
 },
 "nbformat": 4,
 "nbformat_minor": 4
}
