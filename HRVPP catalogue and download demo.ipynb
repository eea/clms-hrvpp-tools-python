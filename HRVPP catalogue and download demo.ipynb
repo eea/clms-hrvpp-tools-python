{
 "cells": [
  {
   "cell_type": "markdown",
   "metadata": {},
   "source": [
    "## Query HRVPP catalogue and download data to WekEO notebooks service\n",
    "\n",
    "This notebook shows how to query the HRVPP catalogue service. The HRVPP catalogue service is an alternative for the WekEO HDA interface and implements a standardized [OpenSearch interface](http://docs.opengeospatial.org/is/17-047r1/17-047r1.html).\n",
    "The catalogue service also comes with a [Python client](https://github.com/VITObelgium/terracatalogueclient), which allows for easy integration in Python notebooks and Python-based processing chains.\n",
    "\n",
    "We'll also show how to download data over HTTP using WekEO credentials."
   ]
  },
  {
   "cell_type": "markdown",
   "metadata": {},
   "source": [
    "Let's start with installing the Python catalogue client"
   ]
  },
  {
   "cell_type": "code",
   "execution_count": 35,
   "metadata": {},
   "outputs": [
    {
     "name": "stdout",
     "output_type": "stream",
     "text": [
      "Looking in indexes: https://artifactory.vgt.vito.be/api/pypi/python-packages/simple\n",
      "Requirement already satisfied: terracatalogueclient==0.1.14 in /home/jovyan/.local/lib/python3.8/site-packages (0.1.14)\n",
      "Requirement already satisfied: boto3 in /home/jovyan/.local/lib/python3.8/site-packages (from terracatalogueclient==0.1.14) (1.18.48)\n",
      "Requirement already satisfied: humanfriendly in /home/jovyan/.local/lib/python3.8/site-packages (from terracatalogueclient==0.1.14) (10.0)\n",
      "Requirement already satisfied: requests-auth>=5.3.0 in /home/jovyan/.local/lib/python3.8/site-packages (from terracatalogueclient==0.1.14) (6.0.0)\n",
      "Requirement already satisfied: shapely in /opt/conda/lib/python3.8/site-packages (from terracatalogueclient==0.1.14) (1.7.1)\n",
      "Requirement already satisfied: requests in /opt/conda/lib/python3.8/site-packages (from terracatalogueclient==0.1.14) (2.24.0)\n",
      "Requirement already satisfied: s3transfer<0.6.0,>=0.5.0 in /home/jovyan/.local/lib/python3.8/site-packages (from boto3->terracatalogueclient==0.1.14) (0.5.0)\n",
      "Requirement already satisfied: botocore<1.22.0,>=1.21.48 in /home/jovyan/.local/lib/python3.8/site-packages (from boto3->terracatalogueclient==0.1.14) (1.21.48)\n",
      "Requirement already satisfied: jmespath<1.0.0,>=0.7.1 in /home/jovyan/.local/lib/python3.8/site-packages (from boto3->terracatalogueclient==0.1.14) (0.10.0)\n",
      "Requirement already satisfied: urllib3!=1.25.0,!=1.25.1,<1.26,>=1.21.1 in /opt/conda/lib/python3.8/site-packages (from requests->terracatalogueclient==0.1.14) (1.25.11)\n",
      "Requirement already satisfied: certifi>=2017.4.17 in /opt/conda/lib/python3.8/site-packages (from requests->terracatalogueclient==0.1.14) (2021.5.30)\n",
      "Requirement already satisfied: idna<3,>=2.5 in /opt/conda/lib/python3.8/site-packages (from requests->terracatalogueclient==0.1.14) (2.10)\n",
      "Requirement already satisfied: chardet<4,>=3.0.2 in /opt/conda/lib/python3.8/site-packages (from requests->terracatalogueclient==0.1.14) (3.0.4)\n",
      "Requirement already satisfied: python-dateutil<3.0.0,>=2.1 in /opt/conda/lib/python3.8/site-packages (from botocore<1.22.0,>=1.21.48->boto3->terracatalogueclient==0.1.14) (2.8.1)\n",
      "Requirement already satisfied: six>=1.5 in /opt/conda/lib/python3.8/site-packages (from python-dateutil<3.0.0,>=2.1->botocore<1.22.0,>=1.21.48->boto3->terracatalogueclient==0.1.14) (1.15.0)\n"
     ]
    }
   ],
   "source": [
    "!pip3 install --user --index-url=https://artifactory.vgt.vito.be/api/pypi/python-packages/simple terracatalogueclient==0.1.14"
   ]
  },
  {
   "cell_type": "markdown",
   "metadata": {},
   "source": [
    "Next, we import some required packages and initialize the catalogue client. Make sure to select the HRVPP catalogue environment:"
   ]
  },
  {
   "cell_type": "code",
   "execution_count": 36,
   "metadata": {},
   "outputs": [],
   "source": [
    "from terracatalogueclient import Catalogue\n",
    "from terracatalogueclient.config import CatalogueConfig\n",
    "from terracatalogueclient.config import CatalogueEnvironment\n",
    "\n",
    "# make sure to retrieve config for the HRVPP catalogue\n",
    "config = CatalogueConfig.from_environment(CatalogueEnvironment.HRVPP)\n",
    "catalogue = Catalogue(config)"
   ]
  },
  {
   "cell_type": "markdown",
   "metadata": {},
   "source": [
    "We'll first query the available HRVPP collections. You'll see that we have one VI (Vegentation Index) collection in UTM projection and ST (Seasonal Trajectories) and VPP (Vegetation Phenology and Productivity parameters) in both UTM and LAEA projections:"
   ]
  },
  {
   "cell_type": "code",
   "execution_count": 37,
   "metadata": {},
   "outputs": [
    {
     "name": "stdout",
     "output_type": "stream",
     "text": [
      "copernicus_r_3035_x_m_hrvpp-st_p_2017-now_v01 - Seasonal Trajectories, 10-daily, LAEA projection \n",
      "copernicus_r_3035_x_m_hrvpp-vpp_p_2017-now_v01 - Vegetation Phenology and Productivity parameters, yearly, LAEA projection\n",
      "copernicus_r_utm-wgs84_10_m_hrvpp-st_p_2017-now_v01 - Seasonal Trajectories, 10-daily, UTM projection\n",
      "copernicus_r_utm-wgs84_10_m_hrvpp-vi_p_2017-now_v01 - Vegetation Indices, daily, UTM projection\n",
      "copernicus_r_utm-wgs84_10_m_hrvpp-vpp_p_2017-now_v01 - Vegetation Phenology and Productivity parameters, yearly, UTM projection\n"
     ]
    }
   ],
   "source": [
    "collections = catalogue.get_collections()\n",
    "for c in collections:\n",
    "    print(f\"{c.id} - {c.properties['title']}\")"
   ]
  },
  {
   "cell_type": "markdown",
   "metadata": {},
   "source": [
    "Let's search for all VPP parameters for one UTM tile for 2020 using the VPP UTM collection.\n",
    "Products are returned as a Python generator! If you want to be able to iterate over the results more than once, you can convert it to a list.\n",
    "Mind that this will load all results in memory, which could be huge depending on the number of results returned!"
   ]
  },
  {
   "cell_type": "code",
   "execution_count": 38,
   "metadata": {},
   "outputs": [
    {
     "name": "stdout",
     "output_type": "stream",
     "text": [
      "VPP_2020_S2_T31UFS-010m_V101_s1_AMPL\n",
      "VPP_2020_S2_T31UFS-010m_V101_s1_EOSD\n",
      "VPP_2020_S2_T31UFS-010m_V101_s1_EOSV\n",
      "VPP_2020_S2_T31UFS-010m_V101_s1_LENGTH\n",
      "VPP_2020_S2_T31UFS-010m_V101_s1_LSLOPE\n",
      "VPP_2020_S2_T31UFS-010m_V101_s1_MAXD\n",
      "VPP_2020_S2_T31UFS-010m_V101_s1_MAXV\n",
      "VPP_2020_S2_T31UFS-010m_V101_s1_MINV\n",
      "VPP_2020_S2_T31UFS-010m_V101_s1_QFLAG\n",
      "VPP_2020_S2_T31UFS-010m_V101_s1_RSLOPE\n",
      "VPP_2020_S2_T31UFS-010m_V101_s1_SOSD\n",
      "VPP_2020_S2_T31UFS-010m_V101_s1_SOSV\n",
      "VPP_2020_S2_T31UFS-010m_V101_s1_SPROD\n",
      "VPP_2020_S2_T31UFS-010m_V101_s1_TPROD\n",
      "VPP_2020_S2_T31UFS-010m_V101_s2_AMPL\n",
      "VPP_2020_S2_T31UFS-010m_V101_s2_EOSD\n",
      "VPP_2020_S2_T31UFS-010m_V101_s2_EOSV\n",
      "VPP_2020_S2_T31UFS-010m_V101_s2_LENGTH\n",
      "VPP_2020_S2_T31UFS-010m_V101_s2_LSLOPE\n",
      "VPP_2020_S2_T31UFS-010m_V101_s2_MAXD\n",
      "VPP_2020_S2_T31UFS-010m_V101_s2_MAXV\n",
      "VPP_2020_S2_T31UFS-010m_V101_s2_MINV\n",
      "VPP_2020_S2_T31UFS-010m_V101_s2_QFLAG\n",
      "VPP_2020_S2_T31UFS-010m_V101_s2_RSLOPE\n",
      "VPP_2020_S2_T31UFS-010m_V101_s2_SOSD\n",
      "VPP_2020_S2_T31UFS-010m_V101_s2_SOSV\n",
      "VPP_2020_S2_T31UFS-010m_V101_s2_SPROD\n",
      "VPP_2020_S2_T31UFS-010m_V101_s2_TPROD\n"
     ]
    }
   ],
   "source": [
    "import datetime as dt\n",
    "products = catalogue.get_products(\n",
    "    \"copernicus_r_utm-wgs84_10_m_hrvpp-vpp_p_2017-now_v01\",\n",
    "    start=dt.date(2020, 1, 1),\n",
    "    end=dt.date(2020, 12, 31),\n",
    "    tileId=\"31UFS\"\n",
    ")\n",
    "\n",
    "product_list = list(products)\n",
    "for product in product_list:\n",
    "    print(product.id)"
   ]
  },
  {
   "cell_type": "markdown",
   "metadata": {},
   "source": [
    "You can also subset on productType and season as shown below:"
   ]
  },
  {
   "cell_type": "code",
   "execution_count": 39,
   "metadata": {},
   "outputs": [
    {
     "name": "stdout",
     "output_type": "stream",
     "text": [
      "VPP_2020_S2_T31UFS-010m_V101_s1_SOSV\n"
     ]
    }
   ],
   "source": [
    "import datetime as dt\n",
    "products = catalogue.get_products(\n",
    "    \"copernicus_r_utm-wgs84_10_m_hrvpp-vpp_p_2017-now_v01\",\n",
    "    start=dt.date(2020, 1, 1),\n",
    "    end=dt.date(2020, 12, 31),\n",
    "    tileId=\"31UFS\",\n",
    "    productType=\"SOSV\",\n",
    "    productGroupId=\"s1\"\n",
    ")\n",
    "\n",
    "product_list = list(products)\n",
    "for product in product_list:\n",
    "    print(product.id)"
   ]
  },
  {
   "cell_type": "markdown",
   "metadata": {},
   "source": [
    "Let's download this data to the notebook environment. This requires a WekEO account, so let's retrieve the password first:"
   ]
  },
  {
   "cell_type": "code",
   "execution_count": 46,
   "metadata": {},
   "outputs": [
    {
     "data": {
      "application/vnd.jupyter.widget-view+json": {
       "model_id": "19910c33c32d40f594d40bfe4f8c2822",
       "version_major": 2,
       "version_minor": 0
      },
      "text/plain": [
       "HBox(children=(VBox(children=(Password(description='Password:', placeholder='Enter password'),)), VBox(childre…"
      ]
     },
     "metadata": {},
     "output_type": "display_data"
    }
   ],
   "source": [
    "import ipywidgets as widgets\n",
    "\n",
    "valid_output = widgets.Valid(value=False)\n",
    "\n",
    "def on_submit_func(button):\n",
    "    button.disabled=True\n",
    "    valid_output.value=True\n",
    "\n",
    "pwd_input = widgets.Password(value='password',\n",
    "                             placeholder='Enter password',\n",
    "                             description='Password:',\n",
    "                             disabled=False)\n",
    "\n",
    "pwd_input.on_submit(on_submit_func)\n",
    "\n",
    "left_box = widgets.VBox([pwd_input])\n",
    "right_box = widgets.VBox([valid_output])\n",
    "widgets.HBox([left_box, right_box])"
   ]
  },
  {
   "cell_type": "code",
   "execution_count": 43,
   "metadata": {},
   "outputs": [
    {
     "data": {
      "text/plain": [
       "<terracatalogueclient.client.Catalogue at 0x7fd8e540b910>"
      ]
     },
     "execution_count": 43,
     "metadata": {},
     "output_type": "execute_result"
    }
   ],
   "source": [
    "# make sure to use your WekEO username!\n",
    "catalogue.authenticate_non_interactive(username='<wekeo_username>', password=pwd_input.value)"
   ]
  },
  {
   "cell_type": "code",
   "execution_count": 44,
   "metadata": {},
   "outputs": [
    {
     "name": "stdin",
     "output_type": "stream",
     "text": [
      "You are about to download 229.62 MB, do you want to continue? [Y/n]  Y\n"
     ]
    }
   ],
   "source": [
    "catalogue.download_products(product_list, '/tmp')"
   ]
  },
  {
   "cell_type": "markdown",
   "metadata": {},
   "source": [
    "Finally, check if the data is downloaded:"
   ]
  },
  {
   "cell_type": "code",
   "execution_count": 45,
   "metadata": {},
   "outputs": [
    {
     "data": {
      "text/plain": [
       "['VPP_2020_S2_T31UFS-010m_V101_s1_SOSV.tif']"
      ]
     },
     "execution_count": 45,
     "metadata": {},
     "output_type": "execute_result"
    }
   ],
   "source": [
    "import os\n",
    "os.listdir('/tmp/VPP_2020_S2_T31UFS-010m_V101_s1_SOSV/')"
   ]
  },
  {
   "cell_type": "code",
   "execution_count": null,
   "metadata": {},
   "outputs": [],
   "source": []
  }
 ],
 "metadata": {
  "kernelspec": {
   "display_name": "Python 3 (ipykernel)",
   "language": "python",
   "name": "python3"
  },
  "language_info": {
   "codemirror_mode": {
    "name": "ipython",
    "version": 3
   },
   "file_extension": ".py",
   "mimetype": "text/x-python",
   "name": "python",
   "nbconvert_exporter": "python",
   "pygments_lexer": "ipython3",
   "version": "3.8.6"
  }
 },
 "nbformat": 4,
 "nbformat_minor": 4
}
