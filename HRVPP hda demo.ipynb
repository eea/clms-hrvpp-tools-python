{
 "cells": [
  {
   "cell_type": "markdown",
   "metadata": {},
   "source": [
    "# HR-VPP Harmonized Data Access (HDA) API demo"
   ]
  },
  {
   "cell_type": "markdown",
   "metadata": {},
   "source": [
    "Author: T. Jacobs (VITO), on behalf of HR-VPP consortium\n",
    "\n",
    "This notebook demonstrates the use of the WEkEO Harmonized Data Access (HDA) API and python client package,\n",
    "for programmatic discovery, searching & downloading of HR-VPP and other, related datasets that are available on WEkEO.\n",
    "\n",
    "Useful links & resources:  \n",
    "- [HDA client package from ECMWF](https://github.com/ecmwf/hda)  \n",
    "- [HDA API documentation](https://www.wekeo.eu/docs/harmonised-data-access-api)  \n",
    "- [Swagger API doc for developers](https://wekeo-broker.apps.mercator.dpi.wekeo.eu/databroker/ui/)  "
   ]
  },
  {
   "cell_type": "markdown",
   "metadata": {},
   "source": [
    "## Step 1: set up the python environment"
   ]
  },
  {
   "cell_type": "code",
   "execution_count": 1,
   "metadata": {},
   "outputs": [],
   "source": [
    "import os, sys\n",
    "import json\n",
    "from IPython.display import HTML\n",
    "from IPython.display import clear_output\n",
    "\n",
    "import requests\n",
    "import warnings\n",
    "warnings.filterwarnings('ignore')\n",
    "\n",
    "import getpass"
   ]
  },
  {
   "cell_type": "code",
   "execution_count": 2,
   "metadata": {},
   "outputs": [],
   "source": [
    "!pip install -U hda\n",
    "clear_output()"
   ]
  },
  {
   "cell_type": "code",
   "execution_count": 3,
   "metadata": {},
   "outputs": [],
   "source": [
    "from hda import Client"
   ]
  },
  {
   "cell_type": "markdown",
   "metadata": {},
   "source": [
    "## Step 2: set up your WEkEO user credentials  \n",
    "\n",
    "The url, username and password are typically stored in the .hdarc file of your users' home folder.  \n",
    "They can be specified when initializing the Client, as shown here."
   ]
  },
  {
   "cell_type": "code",
   "execution_count": 4,
   "metadata": {},
   "outputs": [
    {
     "name": "stdin",
     "output_type": "stream",
     "text": [
      " demo4clms\n"
     ]
    }
   ],
   "source": [
    "username=input()"
   ]
  },
  {
   "cell_type": "code",
   "execution_count": 5,
   "metadata": {},
   "outputs": [
    {
     "name": "stdin",
     "output_type": "stream",
     "text": [
      " ···········\n"
     ]
    }
   ],
   "source": [
    "password = getpass.getpass()"
   ]
  },
  {
   "cell_type": "markdown",
   "metadata": {},
   "source": [
    "## Step 3: discover the HR-VPP datasets on WEkEO\n",
    "\n",
    "#### Define the HDA Client"
   ]
  },
  {
   "cell_type": "code",
   "execution_count": 6,
   "metadata": {},
   "outputs": [],
   "source": [
    "c = Client(url='https://wekeo-broker.apps.mercator.dpi.wekeo.eu/databroker',user=username, password=password,timeout=15, sleep_max=20, retry_max=5, debug=False, quiet=True)"
   ]
  },
  {
   "cell_type": "markdown",
   "metadata": {},
   "source": [
    "#### To find the dataset ID's, you can navigate the wekeo.eu/data portal, search for \"hrvpp\" and then copy the identifier from the dataset description\n",
    "\n",
    "![WEkEO portal](WEkEO_portal_screenshot1.png)  \n",
    "![Identifier code in the dataset description](WEkEO_portal_screenshot2_datasetID.png)\n",
    "\n",
    "#### For convenience, the IDs for all available HR-VPP datasets are listed here:"
   ]
  },
  {
   "cell_type": "code",
   "execution_count": 7,
   "metadata": {},
   "outputs": [],
   "source": [
    "## IDs for HR-VPP's datasets on WEkEO:\n",
    "VEGETATION_INDICES='EO:EEA:DAT:CLMS_HRVPP_VI'\n",
    "\n",
    "SEASONAL_TRAJECTORIES_UTM='EO:EEA:DAT:CLMS_HRVPP_ST'\n",
    "SEASONAL_TRAJECTORIES_LAEA='EO:EEA:DAT:CLMS_HRVPP_ST-LAEA'\n",
    "\n",
    "VPP_PARAMS_UTM='EO:EEA:DAT:CLMS_HRVPP_VPP'\n",
    "VPP_PARAMS_LAEA='EO:EEA:DAT:CLMS_HRVPP_VPP-LAEA'"
   ]
  },
  {
   "cell_type": "markdown",
   "metadata": {},
   "source": [
    "#### See the dataset description in detail"
   ]
  },
  {
   "cell_type": "code",
   "execution_count": 8,
   "metadata": {},
   "outputs": [
    {
     "data": {
      "text/plain": [
       "{'abstract': 'Vegetation Indices (VI) comprises four daily vegetation indices (PPI, NDVI, LAI and FAPAR) and quality information, that are part of the Copernicus Land Monitoring Service (CLMS) HR-VPP product suite. \\n\\nThe 10m resolution, daily updated Plant Phenology Index (PPI), Normalized Difference Vegetation Index (NDVI), Leaf Area Index (LAI) and Fraction of Absorbed Photosynthetically Active Radiation (fAPAR) are derived from Copernicus Sentinel-2 satellite observations.\\n\\nThey are provided together with a related quality indicator (QFLAG2) that flags clouds, shadows, snow, open water and other areas where the VI retrieval is less reliable.\\n\\nThese Vegetation Indices are made available as a set of raster files with 10 x 10m resolution, in UTM/WGS84 projection corresponding to the Sentinel-2 tiling grid, for those tiles that cover the EEA38 countries and the United Kingdom and for the period from 2017 until today, with daily updates.\\n\\nThe Vegetation Indices are part of the pan-European High Resolution Vegetation Phenology and Productivity (HR-VPP) component of the Copernicus Land Monitoring Service (CLMS).',\n",
       " 'contact': {'contactEmail': 'copernicus@eea.europa.eu',\n",
       "  'contactIndividualName': 'copernicus@eea.europa.eu',\n",
       "  'contactOrganizationName': 'copernicus@eea.europa.eu',\n",
       "  'contactPhone': None,\n",
       "  'contactUrl': 'http://land.copernicus.eu/global/'},\n",
       " 'created': '2021-08-30T00:00:00Z',\n",
       " 'datasetId': 'EO:EEA:DAT:CLMS_HRVPP_VI',\n",
       " 'dataset_remote_name': 'EO:EEA:DAT:CLMS_HRVPP_VI',\n",
       " 'details': {'instrumentId': None,\n",
       "  'instrumentName': None,\n",
       "  'instrumentType': None,\n",
       "  'orbitType': None,\n",
       "  'platformDescription': None,\n",
       "  'platformId': None},\n",
       " 'extent': {'bbox': 'POLYGON((-25.0 72.0, 45.0 72.0, 45.0 26.0, -25.0 26.0, -25.0 72.0))',\n",
       "  'endDate': '2021-08-30T23:59:00',\n",
       "  'geoDescription': None,\n",
       "  'startDate': '2017-01-01T00:00:00'},\n",
       " 'parameters': 'Productivity, plant production, plant ecology, geospatial data, vegetation, remote sensing, United Kingdom, Index, EEA38, European, Environmental monitoring facilities, Land, Copernicus, Plant, Daily, Phenology, Vegetation, Orthoimagery, Season, Habitats and biotopes',\n",
       " 'previewImage': 'https://wekeo-broker-k8s.apps.mercator.dpi.wekeo.eu/previews/EO_EEA_DAT_CLMS_HRVPP_VI.jpg',\n",
       " 'status': 'completed',\n",
       " 'status_action': 'available',\n",
       " 'title': 'Vegetation Indices, daily, UTM projection'}"
      ]
     },
     "execution_count": 8,
     "metadata": {},
     "output_type": "execute_result"
    }
   ],
   "source": [
    "c.dataset(VEGETATION_INDICES)"
   ]
  },
  {
   "cell_type": "markdown",
   "metadata": {},
   "source": [
    "#### To know the options available for filtering data requests, see the dataset's metadata\n",
    "\n",
    "For the Seasonal Trajectories dataset, we can filter the data based on bounding box (rectangle), time interval (date range), product type (PPI or QFLAG) and so on."
   ]
  },
  {
   "cell_type": "code",
   "execution_count": 9,
   "metadata": {},
   "outputs": [
    {
     "name": "stdout",
     "output_type": "stream",
     "text": [
      "{\n",
      "  \"datasetId\": \"EO:EEA:DAT:CLMS_HRVPP_ST\",\n",
      "  \"parameters\": {\n",
      "    \"boundingBoxes\": [\n",
      "      {\n",
      "        \"comment\": \"Bounding Box\",\n",
      "        \"details\": {\n",
      "          \"crs\": \"EPSG:4326\",\n",
      "          \"extent\": []\n",
      "        },\n",
      "        \"isRequired\": false,\n",
      "        \"label\": \"Bounding Box\",\n",
      "        \"name\": \"bbox\"\n",
      "      }\n",
      "    ],\n",
      "    \"dateRangeSelects\": [\n",
      "      {\n",
      "        \"comment\": \"Temporal interval to search\",\n",
      "        \"details\": {\n",
      "          \"defaultEnd\": null,\n",
      "          \"defaultStart\": null,\n",
      "          \"end\": null,\n",
      "          \"start\": null\n",
      "        },\n",
      "        \"isRequired\": false,\n",
      "        \"label\": \"Temporal interval to search\",\n",
      "        \"name\": \"temporal_interval\"\n",
      "      },\n",
      "      {\n",
      "        \"comment\": \"The dateTime when the resource described by the entry was created.\",\n",
      "        \"details\": {\n",
      "          \"defaultEnd\": null,\n",
      "          \"defaultStart\": null,\n",
      "          \"end\": null,\n",
      "          \"start\": null\n",
      "        },\n",
      "        \"isRequired\": false,\n",
      "        \"label\": \"processingDate\",\n",
      "        \"name\": \"processingDate\"\n",
      "      }\n",
      "    ],\n",
      "    \"multiStringSelects\": null,\n",
      "    \"stringChoices\": [\n",
      "      {\n",
      "        \"comment\": \"String identifying the entry type.\",\n",
      "        \"details\": {\n",
      "          \"valuesLabels\": {\n",
      "            \"PPI\": \"PPI\",\n",
      "            \"QFLAG\": \"QFLAG\"\n",
      "          }\n",
      "        },\n",
      "        \"isRequired\": false,\n",
      "        \"label\": \"productType\",\n",
      "        \"name\": \"productType\"\n",
      "      }\n",
      "    ],\n",
      "    \"stringInputs\": [\n",
      "      {\n",
      "        \"comment\": \"Local identifier of the record in the repository context.\",\n",
      "        \"details\": {\n",
      "          \"pattern\": \"[\\\\w-]+\"\n",
      "        },\n",
      "        \"isRequired\": false,\n",
      "        \"label\": \"Product identifier\",\n",
      "        \"name\": \"uid\"\n",
      "      },\n",
      "      {\n",
      "        \"comment\": \"Identification of the second part of an MGRS coordinate (square identification).\",\n",
      "        \"details\": {\n",
      "          \"pattern\": \"[\\\\w-]+\"\n",
      "        },\n",
      "        \"isRequired\": false,\n",
      "        \"label\": \"tileId\",\n",
      "        \"name\": \"tileId\"\n",
      "      },\n",
      "      {\n",
      "        \"comment\": \"String identifying the version of the Product.\",\n",
      "        \"details\": {\n",
      "          \"pattern\": \"[\\\\w-]+\"\n",
      "        },\n",
      "        \"isRequired\": false,\n",
      "        \"label\": \"productVersion\",\n",
      "        \"name\": \"productVersion\"\n",
      "      },\n",
      "      {\n",
      "        \"comment\": \"A location criteria (Googleplace name) to perform the search.  Example : Paris, Belgium\",\n",
      "        \"details\": {\n",
      "          \"pattern\": \"[\\\\pL\\\\pN\\\\pZs\\\\pS\\\\pP]+\"\n",
      "        },\n",
      "        \"isRequired\": false,\n",
      "        \"label\": \"Place name\",\n",
      "        \"name\": \"name\"\n",
      "      }\n",
      "    ]\n",
      "  },\n",
      "  \"rendering\": null,\n",
      "  \"userTerms\": {\n",
      "    \"accepted\": true,\n",
      "    \"termsId\": \"Copernicus_General_License\"\n",
      "  }\n",
      "}\n"
     ]
    }
   ],
   "source": [
    "s=c.metadata(datasetId=SEASONAL_TRAJECTORIES_UTM)\n",
    "print(json.dumps(s,indent=2))"
   ]
  },
  {
   "cell_type": "markdown",
   "metadata": {},
   "source": [
    "### Step 4: actual data requests to search for & download files\n",
    "\n",
    "The JSON payload for the data request can be constructed from the dataset metadata.\n",
    "However, it is easier to perform a first request on the wekeo.eu/data portal and then copy the API request code into a JSON file.  \n",
    "![WEkEO portal API payload example](WEkEO_portal_screenshot3_APIrequest.png)"
   ]
  },
  {
   "cell_type": "markdown",
   "metadata": {},
   "source": [
    "#### Load the API payload JSON file"
   ]
  },
  {
   "cell_type": "code",
   "execution_count": 10,
   "metadata": {},
   "outputs": [],
   "source": [
    "with open('hda_st_example.json') as f:\n",
    "    st_query=json.loads(f.read())"
   ]
  },
  {
   "cell_type": "code",
   "execution_count": 11,
   "metadata": {},
   "outputs": [
    {
     "name": "stdout",
     "output_type": "stream",
     "text": [
      "{\n",
      "  \"datasetId\": \"EO:EEA:DAT:CLMS_HRVPP_ST\",\n",
      "  \"boundingBoxValues\": [\n",
      "    {\n",
      "      \"name\": \"bbox\",\n",
      "      \"bbox\": [\n",
      "        5.139675926686226,\n",
      "        52.17217026352144,\n",
      "        5.8635591352846435,\n",
      "        52.48021777571928\n",
      "      ]\n",
      "    }\n",
      "  ],\n",
      "  \"dateRangeSelectValues\": [\n",
      "    {\n",
      "      \"name\": \"temporal_interval\",\n",
      "      \"start\": \"2021-05-01T00:00:00.000Z\",\n",
      "      \"end\": \"2021-05-11T00:00:00.000Z\"\n",
      "    }\n",
      "  ],\n",
      "  \"stringChoiceValues\": [\n",
      "    {\n",
      "      \"name\": \"productType\",\n",
      "      \"value\": \"PPI\"\n",
      "    }\n",
      "  ]\n",
      "}\n"
     ]
    }
   ],
   "source": [
    "print(json.dumps(st_query,indent=2))"
   ]
  },
  {
   "cell_type": "markdown",
   "metadata": {},
   "source": [
    "#### Search for products matching the data request (query) parameters"
   ]
  },
  {
   "cell_type": "code",
   "execution_count": 12,
   "metadata": {},
   "outputs": [
    {
     "name": "stdout",
     "output_type": "stream",
     "text": [
      "SearchResults[items=4,volume=720.4M,jobId=2Tp4Zi3hwb6jhH29FamOKIZSk-c]\n"
     ]
    }
   ],
   "source": [
    "matches = c.search(st_query)\n",
    "print(matches)"
   ]
  },
  {
   "cell_type": "markdown",
   "metadata": {},
   "source": [
    "#### Download the matching product files"
   ]
  },
  {
   "cell_type": "code",
   "execution_count": 13,
   "metadata": {},
   "outputs": [
    {
     "name": "stderr",
     "output_type": "stream",
     "text": [
      "                                                   \r"
     ]
    }
   ],
   "source": [
    "matches.download()"
   ]
  },
  {
   "cell_type": "markdown",
   "metadata": {},
   "source": [
    "### Step 5: repeat the above steps to download other relevant datasets\n",
    "\n",
    "Here's an example for the Agrometeorological indicators from 1979 to present derived from reanalysis (AgERA5) temperature data.  \n",
    "\n",
    "The same approach can be followed to download other Copernicus Land Service datasets, such as CORINE Land Cover."
   ]
  },
  {
   "cell_type": "code",
   "execution_count": 14,
   "metadata": {},
   "outputs": [],
   "source": [
    "# AgERA5 example\n",
    "with open('hda_agera5_example.json') as f:\n",
    "    agera5_query=json.loads(f.read())"
   ]
  },
  {
   "cell_type": "code",
   "execution_count": 15,
   "metadata": {},
   "outputs": [
    {
     "name": "stdout",
     "output_type": "stream",
     "text": [
      "SearchResults[items=1,volume=64.2K,jobId=bzW3jVrRXX_vyyOoamUOwrQA3C8]\n"
     ]
    }
   ],
   "source": [
    "matches = c.search(agera5_query)\n",
    "print(matches)"
   ]
  },
  {
   "cell_type": "code",
   "execution_count": 61,
   "metadata": {},
   "outputs": [
    {
     "name": "stderr",
     "output_type": "stream",
     "text": [
      "                                           \r"
     ]
    }
   ],
   "source": [
    "matches.download()"
   ]
  }
 ],
 "metadata": {
  "kernelspec": {
   "display_name": "Python 3 (ipykernel)",
   "language": "python",
   "name": "python3"
  },
  "language_info": {
   "codemirror_mode": {
    "name": "ipython",
    "version": 3
   },
   "file_extension": ".py",
   "mimetype": "text/x-python",
   "name": "python",
   "nbconvert_exporter": "python",
   "pygments_lexer": "ipython3",
   "version": "3.8.6"
  }
 },
 "nbformat": 4,
 "nbformat_minor": 4
}
